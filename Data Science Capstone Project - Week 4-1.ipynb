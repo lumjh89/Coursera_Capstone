{
    "cells": [
        {
            "cell_type": "markdown",
            "metadata": {
                "collapsed": true
            },
            "source": "# Battle of the Neighborhoods - House Buying Search"
        },
        {
            "cell_type": "markdown",
            "metadata": {},
            "source": "### Table of Contents:"
        },
        {
            "cell_type": "markdown",
            "metadata": {},
            "source": "1. [Introduction/Business Understanding](#intro)\n2. Analytic Approach - In progress\n3. Data Requirements - In progress\n4. Data Preparation/Pre-processing - In progress\n5. Analysis - In progress\n6. Conclusion - In progress"
        },
        {
            "cell_type": "markdown",
            "metadata": {},
            "source": "## 1. Introduction/Business Understanding "
        },
        {
            "cell_type": "markdown",
            "metadata": {},
            "source": "#### 1.1 Background"
        },
        {
            "cell_type": "markdown",
            "metadata": {},
            "source": "As an engineer working 5+ years in the automotive industry since graduating from post secondary school, I am now looking to take the next step in my life which is to purchase a house.  At first when I started to look into purchasing a house I was only focused on the house itself, but I soon realized that if I wanted to live there long term I also need to look at the surrounding amenities as I did not want a *commuter* house.  \n\nWhen moving into an area it is important that the house meets your needs while the neighborhood also suits your lifestyle.  As a young adult the following list is what I would be looking for in my search for a house:\n\n1. Affordable neighborhood\n2. Fitness ameneties in the surrounding area\n3. Restaurants and coffee shops within walking distance"
        },
        {
            "cell_type": "markdown",
            "metadata": {},
            "source": "#### 1.2 Problem Description"
        },
        {
            "cell_type": "markdown",
            "metadata": {},
            "source": "Purchasing a house is a very big decision to make.  This decision has many obstacles as there are many unknowns which includes the following:\n\n* What city to purchase the house in?\n* What are the different neighborhoods in the city?\n* Where is each neighborhood within the city?\n* How do housing prices vary with location?\n* What kind of popular venues are around each neighborhood?\n* How many available house listings are their in each location?\n\nWith all of these unknowns it would take a significant amount of time to answer these questions by combing the internet.  Time is definitely a luxury in my current situation with the high number of hours I work every week so an efficient method to summarize findings would be ideal compared to spending hours on end combing the internet with findings being manually written down.  \n\nFor this project we will be comparing neighborhoods in the cities of Hamilton and Burlington to determine the ideal location for me to purchase a house."
        },
        {
            "cell_type": "markdown",
            "metadata": {},
            "source": "#### 1.3 Target Audience"
        },
        {
            "cell_type": "markdown",
            "metadata": {},
            "source": "This project will serve **young adults** to help make an informed decision on where to purchase a house in Hamilton and Burlington by providing an in-depth analysis of neighborhood housing costs, available housing listings, and surrounding venues."
        },
        {
            "cell_type": "code",
            "execution_count": null,
            "metadata": {},
            "outputs": [],
            "source": ""
        }
    ],
    "metadata": {
        "kernelspec": {
            "display_name": "Python 3.6",
            "language": "python",
            "name": "python3"
        },
        "language_info": {
            "codemirror_mode": {
                "name": "ipython",
                "version": 3
            },
            "file_extension": ".py",
            "mimetype": "text/x-python",
            "name": "python",
            "nbconvert_exporter": "python",
            "pygments_lexer": "ipython3",
            "version": "3.6.9"
        }
    },
    "nbformat": 4,
    "nbformat_minor": 1
}