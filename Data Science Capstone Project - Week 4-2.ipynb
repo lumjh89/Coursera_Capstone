{
    "cells": [
        {
            "cell_type": "markdown",
            "metadata": {
                "collapsed": true
            },
            "source": "# Battle of the Neighborhoods - House Buying Search"
        },
        {
            "cell_type": "markdown",
            "metadata": {},
            "source": "### Table of Contents:"
        },
        {
            "cell_type": "markdown",
            "metadata": {},
            "source": "1. [Introduction/Business Understanding](#intro)\n2. [Analytic Approach](#approach)\n3. [Data Requirements](#requirements)\n4. Data Preparation/Pre-processing - In progress\n5. Analysis - In progress\n6. Conclusion - In progress"
        },
        {
            "cell_type": "markdown",
            "metadata": {},
            "source": "## 1. Introduction/Business Understanding "
        },
        {
            "cell_type": "markdown",
            "metadata": {},
            "source": "#### 1.1 Background"
        },
        {
            "cell_type": "markdown",
            "metadata": {},
            "source": "As an engineer working 5+ years in the automotive industry since graduating from post secondary school, I am now looking to take the next step in my life which is to purchase a house.  At first when I started to look into purchasing a house I was only focused on the house itself, but I soon realized that if I wanted to live there long term I also need to look at the surrounding amenities as I did not want a *commuter* house.  \n\nWhen moving into an area it is important that the house meets your needs while the neighborhood also suits your lifestyle.  As a young adult the following list is what I would be looking for in my search for a house:\n\n1. Affordable neighborhood\n2. Fitness ameneties in the surrounding area\n3. Restaurants and coffee shops within walking distance"
        },
        {
            "cell_type": "markdown",
            "metadata": {},
            "source": "#### 1.2 Problem Description"
        },
        {
            "cell_type": "markdown",
            "metadata": {},
            "source": "Purchasing a house is a very big decision to make.  This decision has many obstacles as there are many unknowns which includes the following:\n\n* What city to purchase the house in?\n* What are the different neighborhoods in the city?\n* Where is each neighborhood within the city?\n* How do housing prices vary with location?\n* What kind of popular venues are around each neighborhood?\n* How many available house listings are their in each location?\n\nWith all of these unknowns it would take a significant amount of time to answer these questions by combing the internet.  Time is definitely a luxury in my current situation with the high number of hours I work every week so an efficient method to summarize findings would be ideal compared to spending hours on end combing the internet with findings being manually written down.  \n\nFor this project we will be comparing neighborhoods in the cities of Hamilton and Burlington to determine the ideal location for me to purchase a house."
        },
        {
            "cell_type": "markdown",
            "metadata": {},
            "source": "#### 1.3 Target Audience"
        },
        {
            "cell_type": "markdown",
            "metadata": {},
            "source": "This project will serve **young adults** to help make an informed decision on where to purchase a house in Hamilton and Burlington by providing an in-depth analysis of neighborhood housing costs, available housing listings, and surrounding venues."
        },
        {
            "cell_type": "markdown",
            "metadata": {},
            "source": "## 2. Analytic Approach"
        },
        {
            "cell_type": "markdown",
            "metadata": {},
            "source": "In this project I will be taking analytic approaches:\n\n1. **Exploratory Data Analysis (EDA)** - To discover details in the data that will contribute in providing useful insights to the reader and young adults.\n2. **Prescriptive Analytics** - To provide the reader and young adults information in regards to similarities and differences between neighborhoods and their surround venues.  K-Means Clustering will be used in this situation."
        },
        {
            "cell_type": "markdown",
            "metadata": {},
            "source": "## 3. Data Requirements"
        },
        {
            "cell_type": "markdown",
            "metadata": {},
            "source": "Two cities will be analyzed in this project:\n* Hamilton\n* Burlington\n\nThe datasources used are listed below including how the datasets will be created from them:\n\n**1.** [**List of Postal Codes L: Canada**](https://en.wikipedia.org/wiki/List_of_postal_codes_of_Canada:_L)**:** A dataset which includes information of neighborhoods for each city will be created by web scraping the table for L postal codes in Canada in Wikipedia.<br>\n\n**2.** [**Avg Housing List Price**](https://www.zoocasa.com/ontario-cities)**:** A dataset which includes average housing list price by city and neighborhood will be created by web scraping several pages from Zoocasa and used for EDA. <br>\n\n**3.** [**Foursquare API**](https://developer.foursquare.com/docs/places-api/)**:** This API will be utilized to gather venue information around the neighborhoods in each city which will be used for EDA and clustering.\n\nFirst I will visualize the postal code dataset with a map to confirm the accuracy of the city data.  Once confirmed, I will narrow down the dataset to include Hamilton and Burlington neighborhoods only.  I will then use EDA to compare the average house pricing and number of available listings between neighborhoods in both cities.  Lastly I will cluster similar neighborhoods based on common surrounding venues."
        },
        {
            "cell_type": "code",
            "execution_count": null,
            "metadata": {},
            "outputs": [],
            "source": ""
        }
    ],
    "metadata": {
        "kernelspec": {
            "display_name": "Python 3.6",
            "language": "python",
            "name": "python3"
        },
        "language_info": {
            "codemirror_mode": {
                "name": "ipython",
                "version": 3
            },
            "file_extension": ".py",
            "mimetype": "text/x-python",
            "name": "python",
            "nbconvert_exporter": "python",
            "pygments_lexer": "ipython3",
            "version": "3.6.9"
        }
    },
    "nbformat": 4,
    "nbformat_minor": 1
}